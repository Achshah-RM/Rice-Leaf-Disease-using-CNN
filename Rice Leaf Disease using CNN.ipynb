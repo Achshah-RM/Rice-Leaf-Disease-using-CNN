{
 "cells": [
  {
   "cell_type": "markdown",
   "id": "c169e7c4",
   "metadata": {},
   "source": [
    "# Rice Leaf Disease using CNN\n",
    "\n",
    "## PROJECT CODE: PRCP-1001-RiceLeaf\n",
    "\n",
    "\n",
    "\n",
    "### The dataset contains images of rice leaf. There are three classes/diseases: Bacterial leaf blight, Brown spot, and Leaf smut, each having 40 images. The target is to create a model that predicts the disease of the rice leaf."
   ]
  },
  {
   "cell_type": "markdown",
   "id": "421626d0",
   "metadata": {},
   "source": [
    "## Installing the required libraries"
   ]
  },
  {
   "cell_type": "code",
   "execution_count": 1,
   "id": "9a5e305a",
   "metadata": {
    "scrolled": true
   },
   "outputs": [
    {
     "name": "stdout",
     "output_type": "stream",
     "text": [
      "Requirement already satisfied: keras in /opt/anaconda3/lib/python3.8/site-packages (2.7.0)\n",
      "Requirement already satisfied: tensorflow in /opt/anaconda3/lib/python3.8/site-packages (2.7.0)\n",
      "Requirement already satisfied: h5py>=2.9.0 in /opt/anaconda3/lib/python3.8/site-packages (from tensorflow) (2.10.0)\n",
      "Requirement already satisfied: keras-preprocessing>=1.1.1 in /opt/anaconda3/lib/python3.8/site-packages (from tensorflow) (1.1.2)\n",
      "Requirement already satisfied: astunparse>=1.6.0 in /opt/anaconda3/lib/python3.8/site-packages (from tensorflow) (1.6.3)\n",
      "Requirement already satisfied: grpcio<2.0,>=1.24.3 in /opt/anaconda3/lib/python3.8/site-packages (from tensorflow) (1.42.0)\n",
      "Requirement already satisfied: google-pasta>=0.1.1 in /opt/anaconda3/lib/python3.8/site-packages (from tensorflow) (0.2.0)\n",
      "Requirement already satisfied: tensorboard~=2.6 in /opt/anaconda3/lib/python3.8/site-packages (from tensorflow) (2.7.0)\n",
      "Requirement already satisfied: wheel<1.0,>=0.32.0 in /opt/anaconda3/lib/python3.8/site-packages (from tensorflow) (0.36.2)\n",
      "Requirement already satisfied: keras<2.8,>=2.7.0rc0 in /opt/anaconda3/lib/python3.8/site-packages (from tensorflow) (2.7.0)\n",
      "Requirement already satisfied: wrapt>=1.11.0 in /opt/anaconda3/lib/python3.8/site-packages (from tensorflow) (1.12.1)\n",
      "Requirement already satisfied: tensorflow-io-gcs-filesystem>=0.21.0 in /opt/anaconda3/lib/python3.8/site-packages (from tensorflow) (0.22.0)\n",
      "Requirement already satisfied: flatbuffers<3.0,>=1.12 in /opt/anaconda3/lib/python3.8/site-packages (from tensorflow) (2.0)\n",
      "Requirement already satisfied: typing-extensions>=3.6.6 in /opt/anaconda3/lib/python3.8/site-packages (from tensorflow) (3.7.4.3)\n",
      "Requirement already satisfied: libclang>=9.0.1 in /opt/anaconda3/lib/python3.8/site-packages (from tensorflow) (12.0.0)\n",
      "Requirement already satisfied: protobuf>=3.9.2 in /opt/anaconda3/lib/python3.8/site-packages (from tensorflow) (3.19.1)\n",
      "Requirement already satisfied: numpy>=1.14.5 in /opt/anaconda3/lib/python3.8/site-packages (from tensorflow) (1.20.1)\n",
      "Requirement already satisfied: opt-einsum>=2.3.2 in /opt/anaconda3/lib/python3.8/site-packages (from tensorflow) (3.3.0)\n",
      "Requirement already satisfied: absl-py>=0.4.0 in /opt/anaconda3/lib/python3.8/site-packages (from tensorflow) (1.0.0)\n",
      "Requirement already satisfied: gast<0.5.0,>=0.2.1 in /opt/anaconda3/lib/python3.8/site-packages (from tensorflow) (0.4.0)\n",
      "Requirement already satisfied: termcolor>=1.1.0 in /opt/anaconda3/lib/python3.8/site-packages (from tensorflow) (1.1.0)\n",
      "Requirement already satisfied: six>=1.12.0 in /opt/anaconda3/lib/python3.8/site-packages (from tensorflow) (1.15.0)\n",
      "Requirement already satisfied: tensorflow-estimator<2.8,~=2.7.0rc0 in /opt/anaconda3/lib/python3.8/site-packages (from tensorflow) (2.7.0)\n",
      "Requirement already satisfied: markdown>=2.6.8 in /opt/anaconda3/lib/python3.8/site-packages (from tensorboard~=2.6->tensorflow) (3.3.6)\n",
      "Requirement already satisfied: werkzeug>=0.11.15 in /opt/anaconda3/lib/python3.8/site-packages (from tensorboard~=2.6->tensorflow) (1.0.1)\n",
      "Requirement already satisfied: google-auth<3,>=1.6.3 in /opt/anaconda3/lib/python3.8/site-packages (from tensorboard~=2.6->tensorflow) (2.3.3)\n",
      "Requirement already satisfied: google-auth-oauthlib<0.5,>=0.4.1 in /opt/anaconda3/lib/python3.8/site-packages (from tensorboard~=2.6->tensorflow) (0.4.6)\n",
      "Requirement already satisfied: tensorboard-data-server<0.7.0,>=0.6.0 in /opt/anaconda3/lib/python3.8/site-packages (from tensorboard~=2.6->tensorflow) (0.6.1)\n",
      "Requirement already satisfied: requests<3,>=2.21.0 in /opt/anaconda3/lib/python3.8/site-packages (from tensorboard~=2.6->tensorflow) (2.25.1)\n",
      "Requirement already satisfied: tensorboard-plugin-wit>=1.6.0 in /opt/anaconda3/lib/python3.8/site-packages (from tensorboard~=2.6->tensorflow) (1.8.0)\n",
      "Requirement already satisfied: setuptools>=41.0.0 in /opt/anaconda3/lib/python3.8/site-packages (from tensorboard~=2.6->tensorflow) (52.0.0.post20210125)\n",
      "Requirement already satisfied: rsa<5,>=3.1.4 in /opt/anaconda3/lib/python3.8/site-packages (from google-auth<3,>=1.6.3->tensorboard~=2.6->tensorflow) (4.8)\n",
      "Requirement already satisfied: cachetools<5.0,>=2.0.0 in /opt/anaconda3/lib/python3.8/site-packages (from google-auth<3,>=1.6.3->tensorboard~=2.6->tensorflow) (4.2.4)\n",
      "Requirement already satisfied: pyasn1-modules>=0.2.1 in /opt/anaconda3/lib/python3.8/site-packages (from google-auth<3,>=1.6.3->tensorboard~=2.6->tensorflow) (0.2.8)\n",
      "Requirement already satisfied: requests-oauthlib>=0.7.0 in /opt/anaconda3/lib/python3.8/site-packages (from google-auth-oauthlib<0.5,>=0.4.1->tensorboard~=2.6->tensorflow) (1.3.0)\n",
      "Requirement already satisfied: importlib-metadata>=4.4 in /opt/anaconda3/lib/python3.8/site-packages (from markdown>=2.6.8->tensorboard~=2.6->tensorflow) (4.8.2)\n",
      "Requirement already satisfied: zipp>=0.5 in /opt/anaconda3/lib/python3.8/site-packages (from importlib-metadata>=4.4->markdown>=2.6.8->tensorboard~=2.6->tensorflow) (3.4.1)\n",
      "Requirement already satisfied: pyasn1<0.5.0,>=0.4.6 in /opt/anaconda3/lib/python3.8/site-packages (from pyasn1-modules>=0.2.1->google-auth<3,>=1.6.3->tensorboard~=2.6->tensorflow) (0.4.8)\n",
      "Requirement already satisfied: chardet<5,>=3.0.2 in /opt/anaconda3/lib/python3.8/site-packages (from requests<3,>=2.21.0->tensorboard~=2.6->tensorflow) (4.0.0)\n",
      "Requirement already satisfied: certifi>=2017.4.17 in /opt/anaconda3/lib/python3.8/site-packages (from requests<3,>=2.21.0->tensorboard~=2.6->tensorflow) (2020.12.5)\n",
      "Requirement already satisfied: urllib3<1.27,>=1.21.1 in /opt/anaconda3/lib/python3.8/site-packages (from requests<3,>=2.21.0->tensorboard~=2.6->tensorflow) (1.26.4)\n",
      "Requirement already satisfied: idna<3,>=2.5 in /opt/anaconda3/lib/python3.8/site-packages (from requests<3,>=2.21.0->tensorboard~=2.6->tensorflow) (2.10)\n",
      "Requirement already satisfied: oauthlib>=3.0.0 in /opt/anaconda3/lib/python3.8/site-packages (from requests-oauthlib>=0.7.0->google-auth-oauthlib<0.5,>=0.4.1->tensorboard~=2.6->tensorflow) (3.1.1)\n",
      "Requirement already satisfied: opencv-python in /opt/anaconda3/lib/python3.8/site-packages (4.5.4.58)\n",
      "Requirement already satisfied: numpy>=1.17.3 in /opt/anaconda3/lib/python3.8/site-packages (from opencv-python) (1.20.1)\n"
     ]
    }
   ],
   "source": [
    "# Open-source Artificial Neural Networks Library\n",
    "\n",
    "!pip install keras\n",
    "\n",
    "# Open-source Deep Neural Networks Library \n",
    "\n",
    "!pip install tensorflow\n",
    "\n",
    "# Open-source Computer Vision Library\n",
    "\n",
    "!pip install opencv-python"
   ]
  },
  {
   "cell_type": "markdown",
   "id": "11fc62b2",
   "metadata": {},
   "source": [
    "## Importing the required packages"
   ]
  },
  {
   "cell_type": "code",
   "execution_count": 2,
   "id": "e4effb20",
   "metadata": {},
   "outputs": [],
   "source": [
    "# Common libraries\n",
    "\n",
    "import pandas as pd\n",
    "import numpy as np\n",
    "import matplotlib.pyplot as plt\n",
    "import seaborn as sn\n",
    "\n",
    "# Libraries for loading the image\n",
    "\n",
    "import cv2\n",
    "import os\n",
    "\n",
    "# Libraries for model selection\n",
    "\n",
    "from sklearn.model_selection import train_test_split\n",
    "from tensorflow.keras.utils import to_categorical\n",
    "\n",
    "# Libraries for CNN\n",
    "\n",
    "import tensorflow as tf\n",
    "from keras.models import Sequential\n",
    "from keras.layers import Conv2D, MaxPool2D, Flatten, Dense"
   ]
  },
  {
   "cell_type": "markdown",
   "id": "c37e4bef",
   "metadata": {},
   "source": [
    "## Loading the images"
   ]
  },
  {
   "cell_type": "code",
   "execution_count": 3,
   "id": "8b162176",
   "metadata": {},
   "outputs": [],
   "source": [
    "# Function to load all the images from folder\n",
    "\n",
    "def load_images_from_folder(folder):\n",
    "    images = []\n",
    "    for filename in os.listdir(folder):\n",
    "        img = cv2.imread(os.path.join(folder,filename))\n",
    "        if img is not None:\n",
    "            images.append(img)\n",
    "    return images"
   ]
  },
  {
   "cell_type": "code",
   "execution_count": 4,
   "id": "cf8b809c",
   "metadata": {},
   "outputs": [],
   "source": [
    "# Calling the function\n",
    "\n",
    "img_bl = load_images_from_folder(\"Bacterial leaf blight\")\n",
    "img_bs = load_images_from_folder(\"Brown spot\")\n",
    "img_ls = load_images_from_folder(\"Leaf smut\")"
   ]
  },
  {
   "cell_type": "markdown",
   "id": "6673af12",
   "metadata": {},
   "source": [
    "## Checking the images"
   ]
  },
  {
   "cell_type": "code",
   "execution_count": 5,
   "id": "facbf895",
   "metadata": {},
   "outputs": [
    {
     "data": {
      "text/plain": [
       "<matplotlib.image.AxesImage at 0x7ffa9f3eb370>"
      ]
     },
     "execution_count": 5,
     "metadata": {},
     "output_type": "execute_result"
    },
    {
     "data": {
      "image/png": "[encoded data removed]",
      "text/plain": [
       "<Figure size 432x288 with 1 Axes>"
      ]
     },
     "metadata": {
      "needs_background": "light"
     },
     "output_type": "display_data"
    }
   ],
   "source": [
    "# Bacterial leaf blight\n",
    "\n",
    "plt.imshow(img_bl[10])"
   ]
  },
  {
   "cell_type": "code",
   "execution_count": 6,
   "id": "f6e0f646",
   "metadata": {},
   "outputs": [
    {
     "data": {
      "text/plain": [
       "<matplotlib.image.AxesImage at 0x7ffaa1d37610>"
      ]
     },
     "execution_count": 6,
     "metadata": {},
     "output_type": "execute_result"
    },
    {
     "data": {
      "image/png": "[encoded data removed]",
      "text/plain": [
       "<Figure size 432x288 with 1 Axes>"
      ]
     },
     "metadata": {
      "needs_background": "light"
     },
     "output_type": "display_data"
    }
   ],
   "source": [
    "# Brown spot\n",
    "\n",
    "plt.imshow(img_bs[20])"
   ]
  },
  {
   "cell_type": "code",
   "execution_count": 7,
   "id": "8e68ba31",
   "metadata": {},
   "outputs": [
    {
     "data": {
      "text/plain": [
       "<matplotlib.image.AxesImage at 0x7ffa9f42e820>"
      ]
     },
     "execution_count": 7,
     "metadata": {},
     "output_type": "execute_result"
    },
    {
     "data": {
      "image/png": "[encoded data removed]",
      "text/plain": [
       "<Figure size 432x288 with 1 Axes>"
      ]
     },
     "metadata": {
      "needs_background": "light"
     },
     "output_type": "display_data"
    }
   ],
   "source": [
    "# Leaf smut\n",
    "\n",
    "plt.imshow(img_ls[35])"
   ]
  },
  {
   "cell_type": "markdown",
   "id": "1d6621f2",
   "metadata": {},
   "source": [
    "## Checking the size"
   ]
  },
  {
   "cell_type": "code",
   "execution_count": 8,
   "id": "3a0f644a",
   "metadata": {},
   "outputs": [
    {
     "data": {
      "text/plain": [
       "40"
      ]
     },
     "execution_count": 8,
     "metadata": {},
     "output_type": "execute_result"
    }
   ],
   "source": [
    "len(img_bl)"
   ]
  },
  {
   "cell_type": "markdown",
   "id": "74acd929",
   "metadata": {},
   "source": [
    "### There are 40 images for Bacterial leaf blight."
   ]
  },
  {
   "cell_type": "code",
   "execution_count": 9,
   "id": "358887a0",
   "metadata": {},
   "outputs": [
    {
     "data": {
      "text/plain": [
       "40"
      ]
     },
     "execution_count": 9,
     "metadata": {},
     "output_type": "execute_result"
    }
   ],
   "source": [
    "len(img_bs)"
   ]
  },
  {
   "cell_type": "markdown",
   "id": "056255bf",
   "metadata": {},
   "source": [
    "### There are 40 images for Brown spot."
   ]
  },
  {
   "cell_type": "code",
   "execution_count": 10,
   "id": "96118d58",
   "metadata": {},
   "outputs": [
    {
     "data": {
      "text/plain": [
       "39"
      ]
     },
     "execution_count": 10,
     "metadata": {},
     "output_type": "execute_result"
    }
   ],
   "source": [
    "len(img_ls)"
   ]
  },
  {
   "cell_type": "markdown",
   "id": "18e995f8",
   "metadata": {},
   "source": [
    "### There are 40 images for Leaf smut."
   ]
  },
  {
   "cell_type": "markdown",
   "id": "b33d4f57",
   "metadata": {},
   "source": [
    "# PREPROCESSING"
   ]
  },
  {
   "cell_type": "markdown",
   "id": "6fe618a4",
   "metadata": {},
   "source": [
    "## For Independent variable"
   ]
  },
  {
   "cell_type": "code",
   "execution_count": 11,
   "id": "842e7517",
   "metadata": {},
   "outputs": [
    {
     "data": {
      "text/plain": [
       "119"
      ]
     },
     "execution_count": 11,
     "metadata": {},
     "output_type": "execute_result"
    }
   ],
   "source": [
    "X = img_bl+img_bs+img_ls\n",
    "len(X)"
   ]
  },
  {
   "cell_type": "markdown",
   "id": "9abbe50b",
   "metadata": {},
   "source": [
    "## Checking image shape"
   ]
  },
  {
   "cell_type": "code",
   "execution_count": 12,
   "id": "7d257fe7",
   "metadata": {
    "scrolled": true
   },
   "outputs": [
    {
     "name": "stdout",
     "output_type": "stream",
     "text": [
      "width:   3081\n",
      "height:  897\n",
      "channel: 3\n",
      "width:   3081\n",
      "height:  897\n",
      "channel: 3\n",
      "width:   3081\n",
      "height:  897\n",
      "channel: 3\n",
      "width:   3081\n",
      "height:  897\n",
      "channel: 3\n",
      "width:   3081\n",
      "height:  897\n",
      "channel: 3\n",
      "width:   3081\n",
      "height:  897\n",
      "channel: 3\n",
      "width:   3081\n",
      "height:  897\n",
      "channel: 3\n",
      "width:   3081\n",
      "height:  897\n",
      "channel: 3\n",
      "width:   3081\n",
      "height:  897\n",
      "channel: 3\n",
      "width:   3081\n",
      "height:  897\n",
      "channel: 3\n",
      "width:   3081\n",
      "height:  897\n",
      "channel: 3\n"
     ]
    }
   ],
   "source": [
    "i = 0\n",
    "\n",
    "while i<=10:\n",
    "\n",
    "    h, w, c = X[i].shape\n",
    "    print('width:  ', w)\n",
    "    print('height: ', h)\n",
    "    print('channel:', c)\n",
    "    i = i+1"
   ]
  },
  {
   "cell_type": "markdown",
   "id": "f412536c",
   "metadata": {},
   "source": [
    "## For Target"
   ]
  },
  {
   "cell_type": "markdown",
   "id": "b799f795",
   "metadata": {},
   "source": [
    "#### Bacterial leaf blight"
   ]
  },
  {
   "cell_type": "code",
   "execution_count": 13,
   "id": "b905718c",
   "metadata": {},
   "outputs": [],
   "source": [
    "bl = []\n",
    "i = 1\n",
    "while i<=40:\n",
    "    bl.append(0)\n",
    "    i = i+1"
   ]
  },
  {
   "cell_type": "code",
   "execution_count": 14,
   "id": "3bf8cf53",
   "metadata": {},
   "outputs": [
    {
     "data": {
      "text/plain": [
       "40"
      ]
     },
     "execution_count": 14,
     "metadata": {},
     "output_type": "execute_result"
    }
   ],
   "source": [
    "len(bl)"
   ]
  },
  {
   "cell_type": "markdown",
   "id": "8c8a35ac",
   "metadata": {},
   "source": [
    "#### Brown spot"
   ]
  },
  {
   "cell_type": "code",
   "execution_count": 15,
   "id": "4507c8e2",
   "metadata": {},
   "outputs": [],
   "source": [
    "bs = []\n",
    "j = 1\n",
    "while j<=40:\n",
    "    bs.append(1)\n",
    "    j = j+1"
   ]
  },
  {
   "cell_type": "code",
   "execution_count": 16,
   "id": "7f7787ab",
   "metadata": {},
   "outputs": [
    {
     "data": {
      "text/plain": [
       "40"
      ]
     },
     "execution_count": 16,
     "metadata": {},
     "output_type": "execute_result"
    }
   ],
   "source": [
    "len(bs)"
   ]
  },
  {
   "cell_type": "markdown",
   "id": "5f37c77d",
   "metadata": {},
   "source": [
    "#### Leaf smut"
   ]
  },
  {
   "cell_type": "code",
   "execution_count": 17,
   "id": "88f5246b",
   "metadata": {},
   "outputs": [],
   "source": [
    "ls = []\n",
    "k = 1\n",
    "while k<=39:\n",
    "    ls.append(2)\n",
    "    k = k+1"
   ]
  },
  {
   "cell_type": "code",
   "execution_count": 18,
   "id": "14e82bdc",
   "metadata": {},
   "outputs": [
    {
     "data": {
      "text/plain": [
       "39"
      ]
     },
     "execution_count": 18,
     "metadata": {},
     "output_type": "execute_result"
    }
   ],
   "source": [
    "len(ls)"
   ]
  },
  {
   "cell_type": "markdown",
   "id": "90f294b8",
   "metadata": {},
   "source": [
    "#### y"
   ]
  },
  {
   "cell_type": "code",
   "execution_count": 19,
   "id": "4cd5105c",
   "metadata": {},
   "outputs": [
    {
     "data": {
      "text/plain": [
       "119"
      ]
     },
     "execution_count": 19,
     "metadata": {},
     "output_type": "execute_result"
    }
   ],
   "source": [
    "y = bl+bs+ls\n",
    "len(y)"
   ]
  },
  {
   "cell_type": "markdown",
   "id": "498bfd08",
   "metadata": {},
   "source": [
    "## Splitting into training and testing data"
   ]
  },
  {
   "cell_type": "code",
   "execution_count": 20,
   "id": "0a289652",
   "metadata": {},
   "outputs": [],
   "source": [
    "x_train, x_test, y_train, y_test = train_test_split(X,y,train_size=0.7,random_state=23)"
   ]
  },
  {
   "cell_type": "markdown",
   "id": "4844c98e",
   "metadata": {},
   "source": [
    "## Converting to numpy array"
   ]
  },
  {
   "cell_type": "code",
   "execution_count": 21,
   "id": "0f9bd189",
   "metadata": {},
   "outputs": [
    {
     "name": "stderr",
     "output_type": "stream",
     "text": [
      "<ipython-input-21-3d41624a13f9>:1: VisibleDeprecationWarning: Creating an ndarray from ragged nested sequences (which is a list-or-tuple of lists-or-tuples-or ndarrays with different lengths or shapes) is deprecated. If you meant to do this, you must specify 'dtype=object' when creating the ndarray.\n",
      "  x_train = np.array(x_train)\n"
     ]
    }
   ],
   "source": [
    "x_train = np.array(x_train)"
   ]
  },
  {
   "cell_type": "code",
   "execution_count": 22,
   "id": "be6e9a24",
   "metadata": {},
   "outputs": [
    {
     "name": "stderr",
     "output_type": "stream",
     "text": [
      "<ipython-input-22-732828b5fbc2>:1: VisibleDeprecationWarning: Creating an ndarray from ragged nested sequences (which is a list-or-tuple of lists-or-tuples-or ndarrays with different lengths or shapes) is deprecated. If you meant to do this, you must specify 'dtype=object' when creating the ndarray.\n",
      "  x_test = np.array(x_test)\n"
     ]
    }
   ],
   "source": [
    "x_test = np.array(x_test)"
   ]
  },
  {
   "cell_type": "code",
   "execution_count": 23,
   "id": "b22e42a2",
   "metadata": {},
   "outputs": [],
   "source": [
    "y_train = np.array(y_train)"
   ]
  },
  {
   "cell_type": "code",
   "execution_count": 24,
   "id": "8b91b425",
   "metadata": {},
   "outputs": [],
   "source": [
    "y_test = np.array(y_test)"
   ]
  },
  {
   "cell_type": "markdown",
   "id": "9742f1fd",
   "metadata": {},
   "source": [
    "## Scaling"
   ]
  },
  {
   "cell_type": "code",
   "execution_count": 25,
   "id": "e6d54c8b",
   "metadata": {},
   "outputs": [],
   "source": [
    "x_train = x_train/255\n",
    "x_test = x_test/255"
   ]
  },
  {
   "cell_type": "code",
   "execution_count": 26,
   "id": "e666de5e",
   "metadata": {},
   "outputs": [
    {
     "data": {
      "text/plain": [
       "(897, 3081, 3)"
      ]
     },
     "execution_count": 26,
     "metadata": {},
     "output_type": "execute_result"
    }
   ],
   "source": [
    "x_train[10].shape"
   ]
  },
  {
   "cell_type": "markdown",
   "id": "aea26fae",
   "metadata": {},
   "source": [
    "## Reshape the image"
   ]
  },
  {
   "cell_type": "code",
   "execution_count": 27,
   "id": "fbac3313",
   "metadata": {},
   "outputs": [
    {
     "data": {
      "text/plain": [
       "(83,)"
      ]
     },
     "execution_count": 27,
     "metadata": {},
     "output_type": "execute_result"
    }
   ],
   "source": [
    "x_train.shape"
   ]
  },
  {
   "cell_type": "code",
   "execution_count": 28,
   "id": "d8c75c64",
   "metadata": {},
   "outputs": [],
   "source": [
    "x_train = np.resize(x_train, (83,255,255,3))"
   ]
  },
  {
   "cell_type": "code",
   "execution_count": 29,
   "id": "def61292",
   "metadata": {},
   "outputs": [
    {
     "data": {
      "text/plain": [
       "(83, 255, 255, 3)"
      ]
     },
     "execution_count": 29,
     "metadata": {},
     "output_type": "execute_result"
    }
   ],
   "source": [
    "x_train.shape"
   ]
  },
  {
   "cell_type": "markdown",
   "id": "e4ac3b67",
   "metadata": {},
   "source": [
    "## One hot encoding"
   ]
  },
  {
   "cell_type": "code",
   "execution_count": 30,
   "id": "16dee679",
   "metadata": {},
   "outputs": [
    {
     "data": {
      "text/plain": [
       "(83,)"
      ]
     },
     "execution_count": 30,
     "metadata": {},
     "output_type": "execute_result"
    }
   ],
   "source": [
    "y_train.shape"
   ]
  },
  {
   "cell_type": "code",
   "execution_count": 31,
   "id": "6f1f2d42",
   "metadata": {},
   "outputs": [
    {
     "data": {
      "text/plain": [
       "(83, 10)"
      ]
     },
     "execution_count": 31,
     "metadata": {},
     "output_type": "execute_result"
    }
   ],
   "source": [
    "y_categorical_train = to_categorical(y_train,10) #one hot encoder\n",
    "y_categorical_train.shape"
   ]
  },
  {
   "cell_type": "markdown",
   "id": "e4587237",
   "metadata": {},
   "source": [
    "# MODEL BUILDING"
   ]
  },
  {
   "cell_type": "markdown",
   "id": "eaa3aa8f",
   "metadata": {},
   "source": [
    "## CNN"
   ]
  },
  {
   "cell_type": "code",
   "execution_count": 32,
   "id": "d0d0ca93",
   "metadata": {},
   "outputs": [],
   "source": [
    "# Defining the model\n",
    "\n",
    "model = Sequential()\n",
    "\n",
    "## FIRST SET OF LAYERS\n",
    "\n",
    "# CONVOLUTIONAL LAYER\n",
    "\n",
    "model.add(Conv2D(filters=64, kernel_size=(4,4), input_shape=(255, 255, 3), activation='relu',))\n",
    "\n",
    "# POOLING LAYER\n",
    "\n",
    "model.add(MaxPool2D(pool_size=(2, 2)))\n",
    "\n",
    "## SECOND SET OF LAYERS\n",
    "\n",
    "# CONVOLUTIONAL LAYER\n",
    "\n",
    "model.add(Conv2D(filters=32, kernel_size=(4,4), activation='relu',))\n",
    "\n",
    "# POOLING LAYER\n",
    "\n",
    "model.add(MaxPool2D(pool_size=(2, 2)))\n",
    "\n",
    "# FLATTEN IMAGES FROM 28 by 28 to 764 BEFORE FINAL LAYER\n",
    "\n",
    "model.add(Flatten())\n",
    "\n",
    "# 256 NEURONS IN DENSE HIDDEN LAYER (YOU CAN CHANGE THIS NUMBER OF NEURONS)\n",
    "\n",
    "model.add(Dense(256, activation='relu')) \n",
    "\n",
    "# LAST LAYER IS THE CLASSIFIER, THUS 10 POSSIBLE CLASSES\n",
    "\n",
    "model.add(Dense(3, activation='softmax'))\n",
    "\n",
    "\n",
    "model.compile(loss='categorical_crossentropy',\n",
    "              optimizer='rmsprop',\n",
    "              metrics=['accuracy'])"
   ]
  },
  {
   "cell_type": "code",
   "execution_count": 33,
   "id": "4cfdea6b",
   "metadata": {},
   "outputs": [
    {
     "name": "stdout",
     "output_type": "stream",
     "text": [
      "Model: \"sequential\"\n",
      "_________________________________________________________________\n",
      " Layer (type)                Output Shape              Param #   \n",
      "=================================================================\n",
      " conv2d (Conv2D)             (None, 252, 252, 64)      3136      \n",
      "                                                                 \n",
      " max_pooling2d (MaxPooling2D  (None, 126, 126, 64)     0         \n",
      " )                                                               \n",
      "                                                                 \n",
      " conv2d_1 (Conv2D)           (None, 123, 123, 32)      32800     \n",
      "                                                                 \n",
      " max_pooling2d_1 (MaxPooling  (None, 61, 61, 32)       0         \n",
      " 2D)                                                             \n",
      "                                                                 \n",
      " flatten (Flatten)           (None, 119072)            0         \n",
      "                                                                 \n",
      " dense (Dense)               (None, 256)               30482688  \n",
      "                                                                 \n",
      " dense_1 (Dense)             (None, 3)                 771       \n",
      "                                                                 \n",
      "=================================================================\n",
      "Total params: 30,519,395\n",
      "Trainable params: 30,519,395\n",
      "Non-trainable params: 0\n",
      "_________________________________________________________________\n"
     ]
    }
   ],
   "source": [
    "model.summary()"
   ]
  },
  {
   "cell_type": "code",
   "execution_count": null,
   "id": "098340d5",
   "metadata": {},
   "outputs": [],
   "source": [
    "x_train= list(x_train)\n",
    "y_train= list(y_train)\n",
    "data_set = tf.data.Dataset.from_tensor_slices(  (x_train ,y_train) )\n",
    "model.fit(data_set)"
   ]
  },
  {
   "cell_type": "code",
   "execution_count": null,
   "id": "ac6622fd",
   "metadata": {},
   "outputs": [],
   "source": [
    "model.fit(X,verbose=1,epochs=5)"
   ]
  },
  {
   "cell_type": "code",
   "execution_count": null,
   "id": "a0357c1c",
   "metadata": {},
   "outputs": [],
   "source": []
  }
 ],
 "metadata": {
  "kernelspec": {
   "display_name": "Python 3",
   "language": "python",
   "name": "python3"
  },
  "language_info": {
   "codemirror_mode": {
    "name": "ipython",
    "version": 3
   },
   "file_extension": ".py",
   "mimetype": "text/x-python",
   "name": "python",
   "nbconvert_exporter": "python",
   "pygments_lexer": "ipython3",
   "version": "3.8.8"
  }
 },
 "nbformat": 4,
 "nbformat_minor": 5
}
